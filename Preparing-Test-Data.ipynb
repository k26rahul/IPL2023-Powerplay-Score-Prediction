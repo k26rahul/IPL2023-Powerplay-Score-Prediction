{
 "cells": [
  {
   "cell_type": "code",
   "execution_count": 2,
   "metadata": {},
   "outputs": [],
   "source": [
    "import pandas as pd"
   ]
  },
  {
   "cell_type": "markdown",
   "metadata": {},
   "source": [
    "# Creating a combined DataFrame"
   ]
  },
  {
   "cell_type": "code",
   "execution_count": 3,
   "metadata": {},
   "outputs": [],
   "source": [
    "dfs = []\n",
    "\n",
    "for i in range(12, 71):\n",
    "    # Skip match_id 46\n",
    "    if i == 46:\n",
    "        continue\n",
    "\n",
    "    # Read labels and features data\n",
    "    labels_file = f'./Data/FilesUsed/test_file_labels_matchid_{i}.csv'\n",
    "    features_file = f'./Data/FilesUsed/test_file_matchid_{i}.csv'\n",
    "\n",
    "    labels = pd.read_csv(labels_file)\n",
    "    features = pd.read_csv(features_file)\n",
    "\n",
    "    # Remove the first column from features\n",
    "    features = features.iloc[:, 1:]\n",
    "\n",
    "    # Add 'total_runs' column from labels\n",
    "    features['total_runs'] = labels['actual_runs']\n",
    "\n",
    "    # Insert 'match_id' column at the beginning\n",
    "    features.insert(loc=0, column='match_id', value=i)\n",
    "\n",
    "    dfs.append(features)"
   ]
  },
  {
   "cell_type": "code",
   "execution_count": 4,
   "metadata": {},
   "outputs": [],
   "source": [
    "combined_df = pd.concat(dfs, axis=0, ignore_index=True)"
   ]
  },
  {
   "cell_type": "code",
   "execution_count": 5,
   "metadata": {},
   "outputs": [
    {
     "data": {
      "text/plain": [
       "58"
      ]
     },
     "execution_count": 5,
     "metadata": {},
     "output_type": "execute_result"
    },
    {
     "data": {
      "text/html": [
       "<div>\n",
       "<style scoped>\n",
       "    .dataframe tbody tr th:only-of-type {\n",
       "        vertical-align: middle;\n",
       "    }\n",
       "\n",
       "    .dataframe tbody tr th {\n",
       "        vertical-align: top;\n",
       "    }\n",
       "\n",
       "    .dataframe thead th {\n",
       "        text-align: right;\n",
       "    }\n",
       "</style>\n",
       "<table border=\"1\" class=\"dataframe\">\n",
       "  <thead>\n",
       "    <tr style=\"text-align: right;\">\n",
       "      <th></th>\n",
       "      <th>match_id</th>\n",
       "      <th>venue</th>\n",
       "      <th>innings</th>\n",
       "      <th>batting_team</th>\n",
       "      <th>bowling_team</th>\n",
       "      <th>batsmen</th>\n",
       "      <th>bowlers</th>\n",
       "      <th>total_runs</th>\n",
       "    </tr>\n",
       "  </thead>\n",
       "  <tbody>\n",
       "    <tr>\n",
       "      <th>0</th>\n",
       "      <td>12</td>\n",
       "      <td>Wankhede Stadium , Mumbai</td>\n",
       "      <td>1</td>\n",
       "      <td>Mumbai Indians</td>\n",
       "      <td>Chennai Super Kings</td>\n",
       "      <td>RG Sharma, Ishan Kishan, Cameron Green</td>\n",
       "      <td>DL Chahar, TU Deshpande, Sisanda Magala, MJ Sa...</td>\n",
       "      <td>61.0</td>\n",
       "    </tr>\n",
       "    <tr>\n",
       "      <th>1</th>\n",
       "      <td>12</td>\n",
       "      <td>Wankhede Stadium , Mumbai</td>\n",
       "      <td>2</td>\n",
       "      <td>Chennai Super Kings</td>\n",
       "      <td>Mumbai Indians</td>\n",
       "      <td>DP Conway, AM Rahane, RD Gaikwad</td>\n",
       "      <td>JP Behrendorff, Mohd Arsad Khan, Cameron Green...</td>\n",
       "      <td>68.0</td>\n",
       "    </tr>\n",
       "    <tr>\n",
       "      <th>2</th>\n",
       "      <td>13</td>\n",
       "      <td>Narendra Modi Stadium, Ahmedabad</td>\n",
       "      <td>1</td>\n",
       "      <td>Gujarat Titans</td>\n",
       "      <td>Kolkata Knight Riders</td>\n",
       "      <td>WP Saha, Shubman Gill, Sai Sudharsan</td>\n",
       "      <td>UT Yadav, SN Thakur, LH Ferguson, SP Narine, C...</td>\n",
       "      <td>54.0</td>\n",
       "    </tr>\n",
       "    <tr>\n",
       "      <th>3</th>\n",
       "      <td>13</td>\n",
       "      <td>Narendra Modi Stadium, Ahmedabad</td>\n",
       "      <td>2</td>\n",
       "      <td>Kolkata Knight Riders</td>\n",
       "      <td>Gujarat Titans</td>\n",
       "      <td>Rahmanullah Gurbaz, N Jagadeesan, Venkatesh Iy...</td>\n",
       "      <td>Mohammed Shami, Joshua Little, AS Joseph</td>\n",
       "      <td>43.0</td>\n",
       "    </tr>\n",
       "    <tr>\n",
       "      <th>4</th>\n",
       "      <td>14</td>\n",
       "      <td>Rajiv Gandhi International Stadium, Hyderabad</td>\n",
       "      <td>1</td>\n",
       "      <td>Punjab Kings</td>\n",
       "      <td>Punjab Kings</td>\n",
       "      <td>P Simran Singh,S Dhawan, DJM Short, Jitesh Sha...</td>\n",
       "      <td>B Kumar, M Jansen, T Natarajan</td>\n",
       "      <td>41.0</td>\n",
       "    </tr>\n",
       "    <tr>\n",
       "      <th>...</th>\n",
       "      <td>...</td>\n",
       "      <td>...</td>\n",
       "      <td>...</td>\n",
       "      <td>...</td>\n",
       "      <td>...</td>\n",
       "      <td>...</td>\n",
       "      <td>...</td>\n",
       "      <td>...</td>\n",
       "    </tr>\n",
       "    <tr>\n",
       "      <th>111</th>\n",
       "      <td>68</td>\n",
       "      <td>Eden Gardens, Kolkata</td>\n",
       "      <td>2</td>\n",
       "      <td>Kolkata Knight Riders</td>\n",
       "      <td>Lucknow Super Giants</td>\n",
       "      <td>JJ Roy, VR Iyer, N Rana</td>\n",
       "      <td>Mohsin Khan, Naveen Ul Haq, KH Pandya, K Gowtham</td>\n",
       "      <td>61.0</td>\n",
       "    </tr>\n",
       "    <tr>\n",
       "      <th>112</th>\n",
       "      <td>69</td>\n",
       "      <td>Wankhede Stadium, Mumbai</td>\n",
       "      <td>1</td>\n",
       "      <td>Sunrisers Hyderabad</td>\n",
       "      <td>Mumbai Indians</td>\n",
       "      <td>MA Agarwal, Vivrant Sharma</td>\n",
       "      <td>JP Behrendroff, Cameron Green, Akash Madhwal, ...</td>\n",
       "      <td>53.0</td>\n",
       "    </tr>\n",
       "    <tr>\n",
       "      <th>113</th>\n",
       "      <td>69</td>\n",
       "      <td>Wankhede Stadium, Mumbai</td>\n",
       "      <td>2</td>\n",
       "      <td>Mumbai Indians</td>\n",
       "      <td>Sunrisers Hyderabad</td>\n",
       "      <td>RG Sharma, I Kishan, Cameron Green</td>\n",
       "      <td>B Kumar, Nitish Kumar Reddy, Mayank Dagar, Kar...</td>\n",
       "      <td>60.0</td>\n",
       "    </tr>\n",
       "    <tr>\n",
       "      <th>114</th>\n",
       "      <td>70</td>\n",
       "      <td>M.Chinnaswamy Stadium, Bengaluru</td>\n",
       "      <td>1</td>\n",
       "      <td>Royal Challengers Bangalore</td>\n",
       "      <td>Gujarat Titans</td>\n",
       "      <td>F du Plessis, V Kohli</td>\n",
       "      <td>Mohammed Shami, Yash Dayal, Rashid Khan, Noor ...</td>\n",
       "      <td>62.0</td>\n",
       "    </tr>\n",
       "    <tr>\n",
       "      <th>115</th>\n",
       "      <td>70</td>\n",
       "      <td>M.Chinnaswamy Stadium, Bengaluru</td>\n",
       "      <td>2</td>\n",
       "      <td>Gujarat Titans</td>\n",
       "      <td>Royal Challengers Bangalore</td>\n",
       "      <td>Shubman Gill, WP Saha, V Shankar</td>\n",
       "      <td>Mohammed Siraj, WD Parnell, Vyshak Vijay Kumar</td>\n",
       "      <td>51.0</td>\n",
       "    </tr>\n",
       "  </tbody>\n",
       "</table>\n",
       "<p>116 rows × 8 columns</p>\n",
       "</div>"
      ],
      "text/plain": [
       "     match_id                                          venue  innings  \\\n",
       "0          12                      Wankhede Stadium , Mumbai        1   \n",
       "1          12                      Wankhede Stadium , Mumbai        2   \n",
       "2          13               Narendra Modi Stadium, Ahmedabad        1   \n",
       "3          13               Narendra Modi Stadium, Ahmedabad        2   \n",
       "4          14  Rajiv Gandhi International Stadium, Hyderabad        1   \n",
       "..        ...                                            ...      ...   \n",
       "111        68                          Eden Gardens, Kolkata        2   \n",
       "112        69                       Wankhede Stadium, Mumbai        1   \n",
       "113        69                       Wankhede Stadium, Mumbai        2   \n",
       "114        70               M.Chinnaswamy Stadium, Bengaluru        1   \n",
       "115        70               M.Chinnaswamy Stadium, Bengaluru        2   \n",
       "\n",
       "                    batting_team                 bowling_team  \\\n",
       "0                 Mumbai Indians          Chennai Super Kings   \n",
       "1            Chennai Super Kings               Mumbai Indians   \n",
       "2                 Gujarat Titans        Kolkata Knight Riders   \n",
       "3          Kolkata Knight Riders               Gujarat Titans   \n",
       "4                   Punjab Kings                 Punjab Kings   \n",
       "..                           ...                          ...   \n",
       "111        Kolkata Knight Riders         Lucknow Super Giants   \n",
       "112          Sunrisers Hyderabad               Mumbai Indians   \n",
       "113               Mumbai Indians          Sunrisers Hyderabad   \n",
       "114  Royal Challengers Bangalore               Gujarat Titans   \n",
       "115               Gujarat Titans  Royal Challengers Bangalore   \n",
       "\n",
       "                                               batsmen  \\\n",
       "0               RG Sharma, Ishan Kishan, Cameron Green   \n",
       "1                     DP Conway, AM Rahane, RD Gaikwad   \n",
       "2                 WP Saha, Shubman Gill, Sai Sudharsan   \n",
       "3    Rahmanullah Gurbaz, N Jagadeesan, Venkatesh Iy...   \n",
       "4    P Simran Singh,S Dhawan, DJM Short, Jitesh Sha...   \n",
       "..                                                 ...   \n",
       "111                            JJ Roy, VR Iyer, N Rana   \n",
       "112                         MA Agarwal, Vivrant Sharma   \n",
       "113                 RG Sharma, I Kishan, Cameron Green   \n",
       "114                              F du Plessis, V Kohli   \n",
       "115                   Shubman Gill, WP Saha, V Shankar   \n",
       "\n",
       "                                               bowlers  total_runs  \n",
       "0    DL Chahar, TU Deshpande, Sisanda Magala, MJ Sa...        61.0  \n",
       "1    JP Behrendorff, Mohd Arsad Khan, Cameron Green...        68.0  \n",
       "2    UT Yadav, SN Thakur, LH Ferguson, SP Narine, C...        54.0  \n",
       "3             Mohammed Shami, Joshua Little, AS Joseph        43.0  \n",
       "4                       B Kumar, M Jansen, T Natarajan        41.0  \n",
       "..                                                 ...         ...  \n",
       "111   Mohsin Khan, Naveen Ul Haq, KH Pandya, K Gowtham        61.0  \n",
       "112  JP Behrendroff, Cameron Green, Akash Madhwal, ...        53.0  \n",
       "113  B Kumar, Nitish Kumar Reddy, Mayank Dagar, Kar...        60.0  \n",
       "114  Mohammed Shami, Yash Dayal, Rashid Khan, Noor ...        62.0  \n",
       "115     Mohammed Siraj, WD Parnell, Vyshak Vijay Kumar        51.0  \n",
       "\n",
       "[116 rows x 8 columns]"
      ]
     },
     "execution_count": 5,
     "metadata": {},
     "output_type": "execute_result"
    }
   ],
   "source": [
    "len(dfs)\n",
    "combined_df"
   ]
  },
  {
   "cell_type": "code",
   "execution_count": 6,
   "metadata": {},
   "outputs": [],
   "source": [
    "combined_df.to_csv('./Data/TestData.csv', index=False)"
   ]
  },
  {
   "cell_type": "markdown",
   "metadata": {},
   "source": [
    "# Looking into data"
   ]
  },
  {
   "cell_type": "code",
   "execution_count": 7,
   "metadata": {},
   "outputs": [
    {
     "data": {
      "text/plain": [
       "[' Bharat Ratna Shri Atal Bihari Vajpayee Ekana Cricket Stadium, Lucknow',\n",
       " ' M.Chinnaswamy Stadium, Bengaluru ',\n",
       " ' Rajiv Gandhi International Stadium, Hyderabad ',\n",
       " 'Arun Jaitley Stadium, Delhi',\n",
       " 'Arun Jaitley Stadium, Delhi ',\n",
       " 'Bharat Ratna Shri Atal Bihari Vajpayee Ekana Cricket Stadium, Lucknow',\n",
       " 'Eden Gardens, Kolkata',\n",
       " 'Himachal Pradesh Cricket Association Stadium, Dharamsala',\n",
       " 'M Chinnaswamy Stadium, Bengaluru',\n",
       " 'M.Chinnaswamy Stadium, Bangalore',\n",
       " 'M.Chinnaswamy Stadium, Bengaluru',\n",
       " 'M.Chinnaswamy Stadium, Bengaluru ',\n",
       " 'MA Chidambaram Stadium, Chennai',\n",
       " 'MA Chidambaram Stadium, Chennai ',\n",
       " 'Narendra Modi Stadium, Ahmedabad',\n",
       " 'Punjab Cricket Association IS Bindra Stadium, Mohali',\n",
       " 'Punjab Cricket Association IS Bindra Stadium, Mohali ',\n",
       " 'Punjab Cricket Association IS Bindra Stadium,Chandigarh',\n",
       " 'Rajiv Gandhi International Stadium, Hyderabad',\n",
       " 'Rajiv Gandhi International Stadium, Hyderabad ',\n",
       " 'Sawai Mansingh Stadium, Jaipur',\n",
       " 'Sawai Mansingh Stadium, Jaipur ',\n",
       " 'Wankhede Stadium , Mumbai',\n",
       " 'Wankhede Stadium, Mumbai']"
      ]
     },
     "execution_count": 7,
     "metadata": {},
     "output_type": "execute_result"
    }
   ],
   "source": [
    "sorted(combined_df['venue'].unique())"
   ]
  },
  {
   "cell_type": "code",
   "execution_count": 8,
   "metadata": {},
   "outputs": [
    {
     "data": {
      "text/plain": [
       "10"
      ]
     },
     "execution_count": 8,
     "metadata": {},
     "output_type": "execute_result"
    },
    {
     "data": {
      "text/plain": [
       "['Chennai Super Kings',\n",
       " 'Delhi Capitals',\n",
       " 'Gujarat Titans',\n",
       " 'Kolkata Knight Riders',\n",
       " 'Lucknow Super Giants',\n",
       " 'Mumbai Indians',\n",
       " 'Punjab Kings',\n",
       " 'Rajasthan Royals',\n",
       " 'Royal Challengers Bangalore',\n",
       " 'Sunrisers Hyderabad']"
      ]
     },
     "execution_count": 8,
     "metadata": {},
     "output_type": "execute_result"
    }
   ],
   "source": [
    "len(combined_df['batting_team'].unique())\n",
    "sorted(combined_df['batting_team'].unique())"
   ]
  },
  {
   "cell_type": "code",
   "execution_count": 16,
   "metadata": {},
   "outputs": [],
   "source": [
    "import matplotlib.pyplot as plt\n",
    "\n",
    "\n",
    "def plot_total_runs():\n",
    "    bin_max = int(max(combined_df['total_runs']) + 6)\n",
    "\n",
    "    _ = plt.hist(combined_df['total_runs'], bins=range(\n",
    "        0, bin_max, 5), edgecolor='black')\n",
    "\n",
    "    _ = plt.title('Histogram of Total Runs')\n",
    "    _ = plt.xlabel('Total Runs')\n",
    "    _ = plt.ylabel('Frequency')\n",
    "    _ = plt.grid(axis='y', alpha=0.75)\n",
    "\n",
    "    _ = plt.show()"
   ]
  },
  {
   "cell_type": "markdown",
   "metadata": {},
   "source": [
    "# Plotting histogram of total runs"
   ]
  },
  {
   "cell_type": "code",
   "execution_count": 18,
   "metadata": {},
   "outputs": [
    {
     "data": {
      "text/plain": [
       "count    116.000000\n",
       "mean      51.948276\n",
       "std       11.418402\n",
       "min       26.000000\n",
       "25%       45.000000\n",
       "50%       52.500000\n",
       "75%       60.250000\n",
       "max       78.000000\n",
       "Name: total_runs, dtype: float64"
      ]
     },
     "execution_count": 18,
     "metadata": {},
     "output_type": "execute_result"
    },
    {
     "data": {
      "image/png": "[encoded data removed]",
      "text/plain": [
       "<Figure size 640x480 with 1 Axes>"
      ]
     },
     "metadata": {},
     "output_type": "display_data"
    }
   ],
   "source": [
    "combined_df['total_runs'].describe()\n",
    "plot_total_runs()"
   ]
  }
 ],
 "metadata": {
  "kernelspec": {
   "display_name": "Python 3",
   "language": "python",
   "name": "python3"
  },
  "language_info": {
   "codemirror_mode": {
    "name": "ipython",
    "version": 3
   },
   "file_extension": ".py",
   "mimetype": "text/x-python",
   "name": "python",
   "nbconvert_exporter": "python",
   "pygments_lexer": "ipython3",
   "version": "3.12.0"
  }
 },
 "nbformat": 4,
 "nbformat_minor": 2
}
